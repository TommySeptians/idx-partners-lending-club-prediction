{
 "cells": [
  {
   "cell_type": "markdown",
   "id": "96bc6e88-0197-4fda-825a-52d292365c68",
   "metadata": {},
   "source": [
    "# 4. Data Modeling"
   ]
  },
  {
   "cell_type": "code",
   "execution_count": 2,
   "id": "8023c84a-c167-425a-826e-51f662a17adc",
   "metadata": {},
   "outputs": [],
   "source": [
    "import warnings\n",
    "warnings.filterwarnings('ignore')\n",
    "\n",
    "import pandas as pd\n",
    "import numpy as np\n",
    "import matplotlib.pyplot as plt\n",
    "import seaborn as sns"
   ]
  },
  {
   "cell_type": "code",
   "execution_count": 3,
   "id": "dd81ff51-f20e-499b-b066-741d89c48e7f",
   "metadata": {},
   "outputs": [],
   "source": [
    "X_train = pd.read_csv('feature_train.csv')\n",
    "X_test = pd.read_csv('feature_test.csv')\n",
    "y_train = pd.read_csv('label_train.csv')\n",
    "y_test = pd.read_csv('label_test.csv')"
   ]
  },
  {
   "cell_type": "code",
   "execution_count": 4,
   "id": "d200144e-c663-482b-b11d-8a83148b2986",
   "metadata": {},
   "outputs": [
    {
     "data": {
      "text/plain": [
       "loan_status\n",
       "0              144713\n",
       "1              144713\n",
       "2              144713\n",
       "Name: count, dtype: int64"
      ]
     },
     "execution_count": 4,
     "metadata": {},
     "output_type": "execute_result"
    }
   ],
   "source": [
    "from imblearn.over_sampling import SMOTE\n",
    "\n",
    "resampling = SMOTE(sampling_strategy = 'auto', random_state = 42) \n",
    "X_train, y_train  = resampling.fit_resample(X_train, y_train)\n",
    "\n",
    "y_train.value_counts()"
   ]
  },
  {
   "cell_type": "code",
   "execution_count": 5,
   "id": "ec91472c-2ae3-4b6c-bd4e-90d905885702",
   "metadata": {},
   "outputs": [],
   "source": [
    "from sklearn.metrics import accuracy_score, precision_score, recall_score, f1_score, roc_auc_score, confusion_matrix, ConfusionMatrixDisplay\n",
    "from sklearn.model_selection import cross_validate\n",
    "\n",
    "def eval_classification(model) :\n",
    "    y_pred             = model.predict(X_test)\n",
    "    y_pred_train       = model.predict(X_train)\n",
    "    y_pred_proba       = model.predict_proba(X_test)\n",
    "    y_pred_proba_train = model.predict_proba(X_train)\n",
    "\n",
    "    print('Accuracy (Train Set)    : %.2f' % accuracy_score(y_train, y_pred_train))\n",
    "    print('Accuracy (Test Set)     : %.2f' % accuracy_score(y_test, y_pred))\n",
    "    \n",
    "    print('Precision (Train Set)   : %.2f' % precision_score(y_train, y_pred_train, average='macro'))\n",
    "    print('Precision (Test Set)    : %.2f' % precision_score(y_test, y_pred, average='macro'))\n",
    "    \n",
    "    print('Recall (Train Set)      : %.2f' % recall_score(y_train, y_pred_train, average='macro'))\n",
    "    print('Recall (Test Set)       : %.2f' % recall_score(y_test, y_pred, average='macro'))\n",
    "    \n",
    "    print('F1-Score (Train Set)    : %.2f' % f1_score(y_train, y_pred_train, average='macro'))\n",
    "    print('F1-Score (Test Set)     : %.2f' % f1_score(y_test, y_pred, average='macro'))\n",
    "\n",
    "    print('ROC-AUC (Train-Proba)   : %.2f' % roc_auc_score(y_train, y_pred_proba_train, multi_class='ovr', average='macro'))\n",
    "    print('ROC-AUC (Test-Proba)    : %.2f' % roc_auc_score(y_test, y_pred_proba, multi_class='ovr', average='macro'))\n",
    "\n",
    "def show_feature_importance(model) :\n",
    "    feat_importances = pd.Series(model.feature_importances_, index = X_train.columns)\n",
    "    ax = feat_importances.nlargest(25).plot(kind = 'barh', figsize = (10, 8))\n",
    "    ax.invert_yaxis()\n",
    "\n",
    "    plt.xlabel('Score')\n",
    "    plt.ylabel('Feature')\n",
    "    plt.title('Feature Importance Score - Data Test')\n",
    "    plt.tight_layout()\n",
    "    plt.show()\n",
    "    \n",
    "def show_confusion_matrix(model) :\n",
    "    cm   = confusion_matrix(y_test, model.predict(X_test))\n",
    "    disp = ConfusionMatrixDisplay(confusion_matrix = cm)\n",
    "    disp.plot(cmap = plt.cm.Blues)\n",
    "    \n",
    "    plt.title('Confusion Matrix - Data Test')\n",
    "    plt.tight_layout()\n",
    "    plt.show()\n",
    "\n",
    "def show_best_hyperparameter(model) :\n",
    "    print(model.best_estimator_.get_params())"
   ]
  },
  {
   "cell_type": "code",
   "execution_count": 6,
   "id": "b249fe18-6c53-457b-8dc1-fbdd95da691c",
   "metadata": {},
   "outputs": [
    {
     "name": "stdout",
     "output_type": "stream",
     "text": [
      "Accuracy (Train Set)    : 0.41\n",
      "Accuracy (Test Set)     : 0.42\n",
      "Precision (Train Set)   : 0.41\n",
      "Precision (Test Set)    : 0.40\n",
      "Recall (Train Set)      : 0.41\n",
      "Recall (Test Set)       : 0.41\n",
      "F1-Score (Train Set)    : 0.41\n",
      "F1-Score (Test Set)     : 0.38\n",
      "ROC-AUC (Train-Proba)   : 0.60\n",
      "ROC-AUC (Test-Proba)    : 0.60\n"
     ]
    }
   ],
   "source": [
    "from sklearn.linear_model import LogisticRegression\n",
    "\n",
    "lr = LogisticRegression(random_state = 42, multi_class = 'multinomial', solver = 'lbfgs')\n",
    "lr.fit(X_train, y_train)\n",
    "eval_classification(lr)"
   ]
  },
  {
   "cell_type": "code",
   "execution_count": 7,
   "id": "c57dd85f-c50a-449c-8411-782d3d6ed6b7",
   "metadata": {},
   "outputs": [
    {
     "name": "stdout",
     "output_type": "stream",
     "text": [
      "Accuracy (Train Set)    : 0.68\n",
      "Accuracy (Test Set)     : 0.73\n",
      "Precision (Train Set)   : 0.68\n",
      "Precision (Test Set)    : 0.65\n",
      "Recall (Train Set)      : 0.68\n",
      "Recall (Test Set)       : 0.65\n",
      "F1-Score (Train Set)    : 0.68\n",
      "F1-Score (Test Set)     : 0.64\n",
      "ROC-AUC (Train-Proba)   : 0.85\n",
      "ROC-AUC (Test-Proba)    : 0.84\n"
     ]
    }
   ],
   "source": [
    "from sklearn.model_selection import RandomizedSearchCV\n",
    "\n",
    "hyperparameters = {#'C' : [float(x) for x in np.linspace(0.0001, 0.5, 100)],\n",
    "                   'penalty' : [None, 'l2'],\n",
    "                   'max_iter' : [50, 100, 200],\n",
    "                   'solver' : ['lbfgs', 'newton-cg', 'sag', 'saga'],\n",
    "                   'multi_class' : ['multinomial', 'auto']}\n",
    "\n",
    "lr = LogisticRegression(random_state = 42)\n",
    "lr_tuned = RandomizedSearchCV(lr, hyperparameters, cv = 5, random_state = 42, scoring = 'roc_auc')\n",
    "lr_tuned.fit(X_train, y_train)\n",
    "eval_classification(lr_tuned)"
   ]
  },
  {
   "cell_type": "code",
   "execution_count": 8,
   "id": "4c7eaf4d-62d2-4223-aaa1-c5add9959cf0",
   "metadata": {},
   "outputs": [
    {
     "name": "stdout",
     "output_type": "stream",
     "text": [
      "{'C': 0.08594141414141414, 'class_weight': None, 'dual': False, 'fit_intercept': True, 'intercept_scaling': 1, 'l1_ratio': None, 'max_iter': 200, 'multi_class': 'auto', 'n_jobs': None, 'penalty': 'l2', 'random_state': 42, 'solver': 'lbfgs', 'tol': 0.0001, 'verbose': 0, 'warm_start': False}\n"
     ]
    }
   ],
   "source": [
    "show_best_hyperparameter(lr_tuned)"
   ]
  },
  {
   "cell_type": "code",
   "execution_count": 9,
   "id": "d0dbf722-195c-492b-a6af-0f288f70e4fc",
   "metadata": {},
   "outputs": [
    {
     "data": {
      "image/png": "[encoded data removed]",
      "text/plain": [
       "<Figure size 640x480 with 2 Axes>"
      ]
     },
     "metadata": {},
     "output_type": "display_data"
    }
   ],
   "source": [
    "show_confusion_matrix(lr_tuned)"
   ]
  },
  {
   "cell_type": "code",
   "execution_count": null,
   "id": "0a4398cd-1578-4a72-ada6-7a0bba6c6411",
   "metadata": {},
   "outputs": [],
   "source": [
    "explainer = shap.Explainer(lr_tuned.predict, X_test)\n",
    "shap_values = explainer(X_test)\n",
    "shap.summary_plot(shap_values, X_test)"
   ]
  },
  {
   "cell_type": "code",
   "execution_count": null,
   "id": "3b11b9fb-ae43-448c-a9e7-4297d8f37810",
   "metadata": {},
   "outputs": [],
   "source": [
    "shap.plots.waterfall(shap_values[0])"
   ]
  },
  {
   "cell_type": "code",
   "execution_count": null,
   "id": "8f17b88e-8b55-4f82-914e-63ec727ee3b9",
   "metadata": {},
   "outputs": [],
   "source": [
    "shap.plots.force(shap_values[0], X_test.iloc[0, :])"
   ]
  },
  {
   "cell_type": "code",
   "execution_count": 10,
   "id": "9081631b-66de-42d0-849c-3844b5b46cb3",
   "metadata": {},
   "outputs": [
    {
     "name": "stdout",
     "output_type": "stream",
     "text": [
      "Accuracy (Train Set)    : 0.99\n",
      "Accuracy (Test Set)     : 0.98\n",
      "Precision (Train Set)   : 0.99\n",
      "Precision (Test Set)    : 0.98\n",
      "Recall (Train Set)      : 0.99\n",
      "Recall (Test Set)       : 0.95\n",
      "F1-Score (Train Set)    : 0.99\n",
      "F1-Score (Test Set)     : 0.96\n",
      "ROC-AUC (Train-Proba)   : 1.00\n",
      "ROC-AUC (Test-Proba)    : 0.99\n"
     ]
    }
   ],
   "source": [
    "import xgboost as xgb\n",
    "\n",
    "xg = xgb.XGBClassifier(random_state = 42)\n",
    "xg.fit(X_train, y_train)\n",
    "eval_classification(xg)"
   ]
  },
  {
   "cell_type": "code",
   "execution_count": 16,
   "id": "4fbe263a-7ac8-4b8a-97a4-ee47dedde399",
   "metadata": {},
   "outputs": [
    {
     "name": "stdout",
     "output_type": "stream",
     "text": [
      "Accuracy (Train Set)    : 0.99\n",
      "Accuracy (Test Set)     : 0.98\n",
      "Precision (Train Set)   : 0.99\n",
      "Precision (Test Set)    : 0.98\n",
      "Recall (Train Set)      : 0.99\n",
      "Recall (Test Set)       : 0.94\n",
      "F1-Score (Train Set)    : 0.99\n",
      "F1-Score (Test Set)     : 0.96\n",
      "ROC-AUC (Train-Proba)   : 1.00\n",
      "ROC-AUC (Test-Proba)    : 0.99\n"
     ]
    }
   ],
   "source": [
    "hyperparameters = { 'max_depth' : [int(x) for x in np.linspace(10, 110, num = 11)],\n",
    "                    'min_child_weight' : [int(x) for x in np.linspace(1, 20, num = 11)],\n",
    "                    'gamma' : [float(x) for x in np.linspace(0, 1, num = 11)],\n",
    "                    'tree_method' : ['auto', 'exact', 'approx', 'hist'],\n",
    "\n",
    "                    'colsample_bytree' : [float(x) for x in np.linspace(0, 1, num = 11)],\n",
    "                    'eta' : [float(x) for x in np.linspace(0, 1, num = 100)],\n",
    "\n",
    "                    'lambda' : [float(x) for x in np.linspace(0, 1, num = 11)],\n",
    "                    'alpha' : [float(x) for x in np.linspace(0, 1, num = 11)]}\n",
    "\n",
    "xg_tuned = xgb.XGBClassifier(random_state = 42)\n",
    "xg_tuned = RandomizedSearchCV(xg_tuned, hyperparameters, cv = 5, random_state = 42, scoring = 'roc_auc')\n",
    "xg_tuned.fit(X_train, y_train)\n",
    "\n",
    "eval_classification(xg_tuned)"
   ]
  },
  {
   "cell_type": "code",
   "execution_count": 25,
   "id": "ea0fc67c-6dce-4fe1-85e3-a6fa39f24433",
   "metadata": {},
   "outputs": [
    {
     "name": "stdout",
     "output_type": "stream",
     "text": [
      "{'objective': 'multi:softprob', 'base_score': None, 'booster': None, 'callbacks': None, 'colsample_bylevel': None, 'colsample_bynode': None, 'colsample_bytree': 0.30000000000000004, 'device': None, 'early_stopping_rounds': None, 'enable_categorical': False, 'eval_metric': None, 'feature_types': None, 'gamma': 0.5, 'grow_policy': None, 'importance_type': None, 'interaction_constraints': None, 'learning_rate': None, 'max_bin': None, 'max_cat_threshold': None, 'max_cat_to_onehot': None, 'max_delta_step': None, 'max_depth': 50, 'max_leaves': None, 'min_child_weight': 18, 'missing': nan, 'monotone_constraints': None, 'multi_strategy': None, 'n_estimators': None, 'n_jobs': None, 'num_parallel_tree': None, 'random_state': 42, 'reg_alpha': None, 'reg_lambda': None, 'sampling_method': None, 'scale_pos_weight': None, 'subsample': None, 'tree_method': 'approx', 'validate_parameters': None, 'verbosity': None, 'lambda': 0.8, 'eta': 0.33333333333333337, 'alpha': 0.8}\n"
     ]
    }
   ],
   "source": [
    "show_best_hyperparameter(xg_tuned)"
   ]
  },
  {
   "cell_type": "code",
   "execution_count": 27,
   "id": "137eff35-ad0d-48e6-a00c-240e7a965b47",
   "metadata": {},
   "outputs": [
    {
     "data": {
      "image/png": "[encoded data removed]",
      "text/plain": [
       "<Figure size 640x480 with 2 Axes>"
      ]
     },
     "metadata": {},
     "output_type": "display_data"
    }
   ],
   "source": [
    "show_confusion_matrix(xg_tuned)"
   ]
  },
  {
   "cell_type": "code",
   "execution_count": null,
   "id": "b51f2662-0c38-4ef3-8330-5d3a0e46d8f4",
   "metadata": {},
   "outputs": [
    {
     "name": "stderr",
     "output_type": "stream",
     "text": [
      "PermutationExplainer explainer:  35%|███▍      | 38853/111649 [1:36:46<4:18:11,  4.70it/s]"
     ]
    }
   ],
   "source": [
    "explainer = shap.Explainer(xg_tuned.predict, X_test)\n",
    "shap_values = explainer(X_test)\n",
    "shap.summary_plot(shap_values, X_test)"
   ]
  },
  {
   "cell_type": "code",
   "execution_count": null,
   "id": "192e36bf-e2de-4ff5-8518-1c0823f6fc33",
   "metadata": {},
   "outputs": [],
   "source": [
    "shap.plots.waterfall(shap_values[0])"
   ]
  },
  {
   "cell_type": "code",
   "execution_count": null,
   "id": "4cdcee8e-cd29-4987-bd6e-551e2c916980",
   "metadata": {},
   "outputs": [],
   "source": [
    "shap.plots.force(shap_values[0], X_test.iloc[0, :])"
   ]
  }
 ],
 "metadata": {
  "kernelspec": {
   "display_name": "Python 3 (ipykernel)",
   "language": "python",
   "name": "python3"
  },
  "language_info": {
   "codemirror_mode": {
    "name": "ipython",
    "version": 3
   },
   "file_extension": ".py",
   "mimetype": "text/x-python",
   "name": "python",
   "nbconvert_exporter": "python",
   "pygments_lexer": "ipython3",
   "version": "3.11.10"
  }
 },
 "nbformat": 4,
 "nbformat_minor": 5
}
